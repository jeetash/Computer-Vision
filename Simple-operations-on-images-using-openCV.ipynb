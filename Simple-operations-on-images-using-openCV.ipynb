{
 "cells": [
  {
   "cell_type": "markdown",
   "metadata": {},
   "source": [
    "# Reading, Displaying and Saving image with OpenCV"
   ]
  },
  {
   "cell_type": "code",
   "execution_count": null,
   "metadata": {},
   "outputs": [],
   "source": [
    "import cv2\n",
    "# Load an color image in grayscale\n",
    "image = cv2.imread(\"1.jpg\", 0)\n",
    "\n",
    "cv2.imshow(\"1-modified.jpg\",image) # the title and path to image\n",
    "cv2.waitKey(0) # Waits for the next key to be pressed\n",
    "if k == 27: # wait for ESC key to exit\n",
    "    cv2.destroyAllWindows()\n",
    "elif k == ord(‘s’): # wait for ‘s’ key to save and exit\n",
    "    cv2.imwrite(\"computervision.jpg\",image)\n",
    "    cv2.destroyAllWindows()"
   ]
  }
 ],
 "metadata": {
  "kernelspec": {
   "display_name": "Python 3",
   "language": "python",
   "name": "python3"
  },
  "language_info": {
   "codemirror_mode": {
    "name": "ipython",
    "version": 3
   },
   "file_extension": ".py",
   "mimetype": "text/x-python",
   "name": "python",
   "nbconvert_exporter": "python",
   "pygments_lexer": "ipython3",
   "version": "3.6.6"
  }
 },
 "nbformat": 4,
 "nbformat_minor": 2
}
